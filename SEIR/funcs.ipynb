{
 "cells": [
  {
   "cell_type": "code",
   "execution_count": null,
   "metadata": {},
   "outputs": [],
   "source": [
    "def f(n, x, beta, sigma, gamma, N):\n",
    "    \n",
    "    fx = np.zeros(n)\n",
    "    \n",
    "    fx[0] = -(beta*x[2]*x[0])/N\n",
    "    fx[1] = (beta*x[2]*x[0])/N - sigma*x[1]\n",
    "    fx[2] = sigma*x[1] - gamma*x[2]\n",
    "    fx[3] = gamma*x[2]\n",
    "    \n",
    "    return fx\n",
    "    \n",
    "\n",
    "\n",
    "def RK4(xa, n, dt, beta, sigma, gamma, N):\n",
    "    \n",
    "    k1=np.zeros(n)\n",
    "    k2=np.zeros(n)\n",
    "    k3=np.zeros(n)\n",
    "    k4=np.zeros(n)\n",
    "    F=np.zeros(n)\n",
    "    x=np.zeros(n)\n",
    "    \n",
    "    F = f(n, xa, beta, sigma, gamma, N)\n",
    "    \n",
    "    for i in range(n):\n",
    "        k1[i] = F[i]\n",
    "        x[i] = xa[i] + 0.5*dt*k1[i]\n",
    "        \n",
    "    F = f(n, x, beta, sigma, gamma, N)\n",
    "        \n",
    "    for i in range(n):\n",
    "        k2[i] = F[i]\n",
    "        x[i] = xa[i] + 0.5*dt*k2[i]\n",
    "        \n",
    "    F = f(n, x, beta, sigma, gamma, N)\n",
    "    \n",
    "    for i in range(n):\n",
    "        k3[i] = F[i]\n",
    "        x[i] = xa[i] + dt*k3[i]\n",
    "        \n",
    "    F = f(n, x, beta, sigma, gamma, N)\n",
    "    \n",
    "    for i in range(n):\n",
    "        k4[i] = F[i]\n",
    "        x[i] = xa[i] + (dt/6.0)*(k1[i] + 2.0*k2[i] + 2.0*k3[i] + k4[i])\n",
    "        xa[i] = x[i]\n",
    "    \n",
    "    \n",
    "    return x"
   ]
  }
 ],
 "metadata": {
  "kernelspec": {
   "display_name": "Python 3",
   "language": "python",
   "name": "python3"
  },
  "language_info": {
   "codemirror_mode": {
    "name": "ipython",
    "version": 3
   },
   "file_extension": ".py",
   "mimetype": "text/x-python",
   "name": "python",
   "nbconvert_exporter": "python",
   "pygments_lexer": "ipython3",
   "version": "3.8.1"
  }
 },
 "nbformat": 4,
 "nbformat_minor": 4
}
